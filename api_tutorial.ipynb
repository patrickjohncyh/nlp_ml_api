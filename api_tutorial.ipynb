{
 "cells": [
  {
   "cell_type": "code",
   "execution_count": null,
   "metadata": {
    "collapsed": true
   },
   "outputs": [],
   "source": [
    "# enable if running in colab\n",
    "!pip install git+https://github.com/patrickjohncyh/nlp_ml_api"
   ]
  },
  {
   "cell_type": "code",
   "execution_count": 1,
   "outputs": [],
   "source": [
    "# enable if running in colab\n",
    "!mkdir datasets\n",
    "!wget https://github.com/patrickjohncyh/nlp_ml_api/raw/master/datasets/corona_nlp.zip\n",
    "!unzip corona_nlp.zip -d ./datasets/"
   ],
   "metadata": {
    "collapsed": false,
    "pycharm": {
     "name": "#%%\n"
    }
   }
  },
  {
   "cell_type": "code",
   "execution_count": 1,
   "outputs": [],
   "source": [
    "import os\n",
    "import pandas as pd\n",
    "from nlp_ml_api.utils.model_utils import  get_available_models, deploy_model\n",
    "from nlp_ml_api.datasets import C19TwitterSentimentDataset\n",
    "from nlp_ml_api.Modeler import Modeler"
   ],
   "metadata": {
    "collapsed": false,
    "pycharm": {
     "name": "#%%\n"
    }
   }
  },
  {
   "cell_type": "code",
   "execution_count": 2,
   "outputs": [],
   "source": [
    "df_train = pd.read_csv(os.path.join('datasets/corona_nlp', 'Corona_NLP_train.csv'), encoding=\"ISO-8859-1\")\n",
    "df_test = pd.read_csv(os.path.join('datasets/corona_nlp', 'Corona_NLP_test.csv'), encoding=\"ISO-8859-1\")"
   ],
   "metadata": {
    "collapsed": false,
    "pycharm": {
     "name": "#%%\n"
    }
   }
  },
  {
   "cell_type": "code",
   "execution_count": 3,
   "outputs": [],
   "source": [
    "# transform data to same format as _requirements_\n",
    "training_data =[{'string':row['OriginalTweet'], 'labels':row['Sentiment']}\n",
    "                  for _,row in  df_train[['OriginalTweet', 'Sentiment']].iterrows()]\n",
    "\n",
    "testing_data =[{'string':row['OriginalTweet'], 'labels':row['Sentiment']}\n",
    "                  for _,row in  df_test[['OriginalTweet', 'Sentiment']].iterrows()]"
   ],
   "metadata": {
    "collapsed": false,
    "pycharm": {
     "name": "#%%\n"
    }
   }
  },
  {
   "cell_type": "code",
   "execution_count": 4,
   "outputs": [],
   "source": [
    "# load dataset\n",
    "dataset = C19TwitterSentimentDataset.from_list(\n",
    "    data_list_train=training_data,\n",
    "    data_list_test=testing_data\n",
    ")"
   ],
   "metadata": {
    "collapsed": false,
    "pycharm": {
     "name": "#%%\n"
    }
   }
  },
  {
   "cell_type": "code",
   "source": [
    "# list available models\n",
    "get_available_models()"
   ],
   "metadata": {
    "collapsed": false,
    "pycharm": {
     "name": "#%%\n"
    }
   },
   "execution_count": 5,
   "outputs": [
    {
     "data": {
      "text/plain": "['CountModel', 'TFIDFModel', 'TransformerModel']"
     },
     "execution_count": 5,
     "metadata": {},
     "output_type": "execute_result"
    }
   ]
  },
  {
   "cell_type": "code",
   "source": [
    "# load Modeler with model and dataset\n",
    "# Change to TransformerModel if running on colab!\n",
    "modeler = Modeler('TFIDFModel', dataset)"
   ],
   "metadata": {
    "collapsed": false,
    "pycharm": {
     "name": "#%%\n"
    }
   },
   "execution_count": 6,
   "outputs": []
  },
  {
   "cell_type": "code",
   "execution_count": 7,
   "outputs": [
    {
     "name": "stdout",
     "output_type": "stream",
     "text": [
      "Train Accuracy: 0.629248291571754\n",
      "Val Accuracy: 0.5775024295432458\n"
     ]
    }
   ],
   "source": [
    "# train model\n",
    "modeler.train()"
   ],
   "metadata": {
    "collapsed": false,
    "pycharm": {
     "name": "#%%\n"
    }
   }
  },
  {
   "cell_type": "code",
   "execution_count": 8,
   "outputs": [
    {
     "name": "stdout",
     "output_type": "stream",
     "text": [
      "============ Classification Report ============\n",
      "\n",
      "                    precision    recall  f1-score   support\n",
      "\n",
      "Extremely Negative       0.67      0.43      0.53       592\n",
      "Extremely Positive       0.72      0.50      0.59       599\n",
      "          Negative       0.50      0.54      0.52      1041\n",
      "           Neutral       0.56      0.66      0.61       619\n",
      "          Positive       0.50      0.62      0.55       947\n",
      "\n",
      "          accuracy                           0.55      3798\n",
      "         macro avg       0.59      0.55      0.56      3798\n",
      "      weighted avg       0.57      0.55      0.55      3798\n",
      "\n",
      "============ Error Analysis ============\n",
      "\n",
      "\n",
      "Mis-classifications for Extremely Negative:\n",
      "\n",
      "Text : Michigan residents can report any suspected price gouging or other violations of the Consumer Protection Act online during the #COVID19 #coronavirus pandemic (&amp; at any time) by visiting \r\n",
      "\r\n",
      "https://t.co/hxpM3nhLgw \r\n",
      "\r\n",
      "or by calling 877-765-8388.\n",
      "Prediction: Negative\n",
      "\n",
      "Text : NO #toiletpaper #handsanitizer #disinfectant wipes  at #HomeDepot or #Walmart !?Got some yesterday from the grocery store but cause ppl R going nuts &amp; #stockpiling there's not enough 4the rest of us \"Normals\"? #CoronavirusPandemic #CoronaOutbreak #Covid_19\n",
      "Prediction: Negative\n",
      "\n",
      "Text : Supermarket in London this evening. No toilet papers, no pasta, no rice, no bread, no chicken and red meat. People are disgusting! #Covid_19 #london #uk https://t.co/OIYk4n20CN\n",
      "Prediction: Negative\n",
      "\n",
      "---\n",
      "\n",
      "Mis-classifications for Extremely Positive:\n",
      "\n",
      "Text : Trevor, an RD at #TCFD, shares helpful tips when it comes to stocking up on food during a #coronavirus quarantine. Stock your pantry as you always do &amp; aim for your diet to consist of protein, fat, carbs, fruits, &amp; veggies: https://t.co/cLaz9cYzsd. @MichaelRosen27 #FoodIsMedicine\n",
      "Prediction: Positive\n",
      "\n",
      "Text : my dadÂs korean restaurant in san francisco has lost 2/3 of our business this past month due to #coronavirus ? if youÂre in the area &amp; want yummy food, please stop by/pick up togo! support your local businesses ??? \r\n",
      "\r\n",
      "han il kwan: 1802 balboa st, san francisco CA 94121 https://t.co/cHONInrqE5\n",
      "Prediction: Positive\n",
      "\n",
      "Text : Since the #coronavirus is now a  #pandemic, I will be online shopping for most of my stuff &amp; limiting how much I go outside. \r\n",
      "\r\n",
      "All items purchased from us will be in itÂs original packaging &amp; handled w/ gloves.\r\n",
      "\r\n",
      "Be safe, Be blessed ???\n",
      "Prediction: Positive\n",
      "\n",
      "---\n",
      "\n",
      "Mis-classifications for Negative:\n",
      "\n",
      "Text : Not thrilled about the craziness at the stores however I am liking these gas prices in Columbia, SC #lowgasprices #Covid_19 https://t.co/y16UUPpW9E\n",
      "Prediction: Neutral\n",
      "\n",
      "Text : Popped into the supermarket earlier......... should I be stock piling ?  I feel IÂm missing out.. #Covid_19 #peerpressure #CoronavirusOutbreak https://t.co/HZYmX58Oja\n",
      "Prediction: Neutral\n",
      "\n",
      "Text : The coronavirus achieved more than any PM or president for the countries. Controlling population, lowering oil, gas, airline prices, free sick days from school/work, less traffic. \r\n",
      "#COVID2019 #coronavirusindia\n",
      "Prediction: Positive\n",
      "\n",
      "---\n",
      "\n",
      "Mis-classifications for Neutral:\n",
      "\n",
      "Text : What did everyone get a bit of extra stock of at the grocery store yesterday? @coronaviruscare #BePreparedNotPanicked #Covid_19\n",
      "Prediction: Positive\n",
      "\n",
      "Text : Talked to someone who is getting ready to launch an emergency essentials kit at market prices. He's got a source with couple of thousand items. He's going to donate the proceeds to food banks and to people who can't afford to subsist . #COVID-19 #coronavirus #covid_19\n",
      "Prediction: Negative\n",
      "\n",
      "Text : Judging by the supermarket shelves, the 'be kind' has been replaced with 'fuck you'. \r\n",
      "\r\n",
      "#Covid_19 \r\n",
      "#coronavirus \r\n",
      "#panicbuying\n",
      "Prediction: Negative\n",
      "\n",
      "---\n",
      "\n",
      "Mis-classifications for Positive:\n",
      "\n",
      "Text : @geniebouchard There is too much crowding in that supermarket. It is not good for health safety #Covid_19 #stayathome #fromitalywithlove\n",
      "Prediction: Extremely Positive\n",
      "\n",
      "Text : I went to th grocery store at 4:30 this morning and i honestly thought I was going to get robbed #Covid_19\n",
      "Prediction: Neutral\n",
      "\n",
      "Text : from being infected with COVID-19 and let them attend to elderly people. -we canÂt Panic for food \r\n",
      "There wonÂt be shortages. Know Elderly folks with health issues are vulnerable.\r\n",
      "As healthy person lets support local workers and economy-shop and eat local!\r\n",
      "Thank you :) 2/2\n",
      "Prediction: Extremely Positive\n",
      "\n",
      "---\n"
     ]
    },
    {
     "data": {
      "text/plain": "<Figure size 640x480 with 2 Axes>",
      "image/png": "[encoded data removed]"
     },
     "metadata": {},
     "output_type": "display_data"
    }
   ],
   "source": [
    "# evaluate on test set (split='train') to evaluate on train\n",
    "eval_result = modeler.evaluate(split='test')"
   ],
   "metadata": {
    "collapsed": false,
    "pycharm": {
     "name": "#%%\n"
    }
   }
  },
  {
   "cell_type": "code",
   "execution_count": 9,
   "outputs": [],
   "source": [
    "model = modeler.model"
   ],
   "metadata": {
    "collapsed": false,
    "pycharm": {
     "name": "#%%\n"
    }
   }
  },
  {
   "cell_type": "code",
   "execution_count": 10,
   "outputs": [
    {
     "data": {
      "text/plain": "array(['Positive'], dtype=object)"
     },
     "execution_count": 10,
     "metadata": {},
     "output_type": "execute_result"
    }
   ],
   "source": [
    "model.predict('Quarantine Day 5: I forgot how the outside world looks like anymore.')"
   ],
   "metadata": {
    "collapsed": false,
    "pycharm": {
     "name": "#%%\n"
    }
   }
  },
  {
   "cell_type": "code",
   "execution_count": 11,
   "outputs": [
    {
     "data": {
      "text/plain": "array(['Negative'], dtype=object)"
     },
     "execution_count": 11,
     "metadata": {},
     "output_type": "execute_result"
    }
   ],
   "source": [
    "model.predict('Quarantine Day 129438: I am tired.')"
   ],
   "metadata": {
    "collapsed": false,
    "pycharm": {
     "name": "#%%\n"
    }
   }
  },
  {
   "cell_type": "markdown",
   "source": [
    "We can deploy onto localhost and invoke model via\n",
    "\n",
    "`0.0.0.0/endpoint/?query=myquery`\n",
    "\n",
    "(Do not run if on Colab)\n",
    "\n",
    "Might take awhile as docker image needs to be built"
   ],
   "metadata": {
    "collapsed": false
   }
  },
  {
   "cell_type": "code",
   "execution_count": 17,
   "outputs": [
    {
     "name": "stdout",
     "output_type": "stream",
     "text": [
      "docker-compose build prod\n",
      "docker run --name endpoint -p 80:80 endpoint/endpoint:latest-prod\n",
      "docker rm endpoint\n",
      "endpoint\n"
     ]
    },
    {
     "name": "stderr",
     "output_type": "stream",
     "text": [
      "Building prod\n",
      "#1 [internal] load build definition from Dockerfile\n",
      "#1 sha256:e5cbd06a96e5a2e7e5305516b3ead4416ca4aefb749c84d948e5e966153cbcf3\n",
      "#1 transferring dockerfile: 37B done\n",
      "#1 DONE 0.0s\n",
      "\n",
      "#2 [internal] load .dockerignore\n",
      "#2 sha256:62e30cf73885e6d5176470136d5d2aaca9bab5f248f01a66176dde504ec782bb\n",
      "#2 transferring context: 2B done\n",
      "#2 DONE 0.0s\n",
      "\n",
      "#3 [internal] load metadata for docker.io/library/python:3.8\n",
      "#3 sha256:edad251955f644c6004999f0af04035912392fa02db26821676452becbc715fb\n",
      "#3 DONE 1.6s\n",
      "\n",
      "#4 [base 1/5] FROM docker.io/library/python:3.8@sha256:847e11fb960908cda335c55495dcaf4bc10559e03abdd9a086a20644327e64a5\n",
      "#4 sha256:9efb27566f53551f4014879971f00b8d9e53b7c4f77dc6e319ab60bbf5b92e21\n",
      "#4 resolve docker.io/library/python:3.8@sha256:847e11fb960908cda335c55495dcaf4bc10559e03abdd9a086a20644327e64a5 done\n",
      "#4 DONE 0.0s\n",
      "\n",
      "#6 [internal] load build context\n",
      "#6 sha256:6fc607d3550a04dd28a22613b21d2495212f7ae55331f62bd993313660a54f5d\n",
      "#6 transferring context: 7.02MB 0.2s done\n",
      "#6 DONE 0.2s\n",
      "\n",
      "#7 [base 3/5] COPY requirements.txt requirements.txt\n",
      "#7 sha256:f43208b3358f3db53d87eec20c7deebea0bc39cc6782591cc813407683ba03d5\n",
      "#7 CACHED\n",
      "\n",
      "#8 [base 4/5] RUN pip install --upgrade pip && pip install -r requirements.txt\n",
      "#8 sha256:5b9a1d10077a8776176461734eb794bae46187b179d50867accf06a26d96299f\n",
      "#8 CACHED\n",
      "\n",
      "#9 [base 5/5] RUN pip install git+https://github.com/patrickjohncyh/nlp_ml_api\n",
      "#9 sha256:02e51e107f36d62eaf7559c47eb67249c42637a095480cd104b73fc906bb17ce\n",
      "#9 CACHED\n",
      "\n",
      "#5 [base 2/5] WORKDIR /home/endpoint\n",
      "#5 sha256:5807565a61936c40a86d315ed9d2d2de316f5d39527595e2abfa1f73fd5cf597\n",
      "#5 CACHED\n",
      "\n",
      "#10 [production 1/2] WORKDIR /production\n",
      "#10 sha256:d713cc8bb4b6f482dd2d6bfa0000cf25ef047ad0da198e0acfb559eb46d586c5\n",
      "#10 CACHED\n",
      "\n",
      "#11 [production 2/2] COPY . .\n",
      "#11 sha256:a2a9ad1e7e8952958c85d3611bf4744a10a3b589243b30ec45e87510605366e4\n",
      "#11 DONE 0.1s\n",
      "\n",
      "#12 exporting to image\n",
      "#12 sha256:e8c613e07b0b7ff33893b694f7759a10d42e180f2b4dc349fb57dc6b71dcab00\n",
      "#12 exporting layers 0.1s done\n",
      "#12 writing image sha256:d44805c5493d0d89327afb9f1aaaafb1b050191537729f415f68d196f9f6020e done\n",
      "#12 naming to docker.io/endpoint/endpoint:latest-prod done\n",
      "#12 DONE 0.1s\n",
      "\n",
      "Use 'docker scan' to run Snyk tests against images to find vulnerabilities and learn how to fix them\n",
      "INFO:     Uvicorn running on http://0.0.0.0:80 (Press CTRL+C to quit)\n",
      "INFO:     Started reloader process [1] using statreload\n",
      "Process SpawnProcess-1:\n",
      "Traceback (most recent call last):\n",
      "  File \"/usr/local/lib/python3.8/multiprocessing/process.py\", line 315, in _bootstrap\n",
      "    self.run()\n",
      "  File \"/usr/local/lib/python3.8/multiprocessing/process.py\", line 108, in run\n",
      "    self._target(*self._args, **self._kwargs)\n",
      "  File \"/usr/local/lib/python3.8/site-packages/uvicorn/subprocess.py\", line 61, in subprocess_started\n",
      "    target(sockets=sockets)\n",
      "  File \"/usr/local/lib/python3.8/site-packages/uvicorn/main.py\", line 407, in run\n",
      "    loop.run_until_complete(self.serve(sockets=sockets))\n",
      "  File \"/usr/local/lib/python3.8/asyncio/base_events.py\", line 616, in run_until_complete\n",
      "    return future.result()\n",
      "  File \"/usr/local/lib/python3.8/site-packages/uvicorn/main.py\", line 414, in serve\n",
      "    config.load()\n",
      "  File \"/usr/local/lib/python3.8/site-packages/uvicorn/config.py\", line 300, in load\n",
      "    self.loaded_app = import_from_string(self.app)\n",
      "  File \"/usr/local/lib/python3.8/site-packages/uvicorn/importer.py\", line 20, in import_from_string\n",
      "    module = importlib.import_module(module_str)\n",
      "  File \"/usr/local/lib/python3.8/importlib/__init__.py\", line 127, in import_module\n",
      "    return _bootstrap._gcd_import(name[level:], package, level)\n",
      "  File \"<frozen importlib._bootstrap>\", line 1014, in _gcd_import\n",
      "  File \"<frozen importlib._bootstrap>\", line 991, in _find_and_load\n",
      "  File \"<frozen importlib._bootstrap>\", line 975, in _find_and_load_unlocked\n",
      "  File \"<frozen importlib._bootstrap>\", line 671, in _load_unlocked\n",
      "  File \"<frozen importlib._bootstrap_external>\", line 843, in exec_module\n",
      "  File \"<frozen importlib._bootstrap>\", line 219, in _call_with_frames_removed\n",
      "  File \"/production/./endpoint/app.py\", line 7, in <module>\n",
      "    model = load_model('saved_models/model_deploy.pk')\n",
      "  File \"/usr/local/lib/python3.8/site-packages/nlp_ml_api/utils/model_utils.py\", line 23, in load_model\n",
      "    with open(filename, 'rb') as f:\n",
      "FileNotFoundError: [Errno 2] No such file or directory: 'saved_models/model_deploy.pk'\n",
      "INFO:     Stopping reloader process [1]\n"
     ]
    }
   ],
   "source": [
    "deploy_model(model, mode='localhost')\n"
   ],
   "metadata": {
    "collapsed": false,
    "pycharm": {
     "name": "#%%\n"
    }
   }
  },
  {
   "cell_type": "code",
   "execution_count": null,
   "outputs": [],
   "source": [],
   "metadata": {
    "collapsed": false,
    "pycharm": {
     "name": "#%%\n"
    }
   }
  }
 ],
 "metadata": {
  "kernelspec": {
   "display_name": "Python 3",
   "language": "python",
   "name": "python3"
  },
  "language_info": {
   "codemirror_mode": {
    "name": "ipython",
    "version": 2
   },
   "file_extension": ".py",
   "mimetype": "text/x-python",
   "name": "python",
   "nbconvert_exporter": "python",
   "pygments_lexer": "ipython2",
   "version": "2.7.6"
  }
 },
 "nbformat": 4,
 "nbformat_minor": 0
}