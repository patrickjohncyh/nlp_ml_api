{
 "cells": [
  {
   "cell_type": "code",
   "execution_count": null,
   "metadata": {
    "collapsed": true
   },
   "outputs": [],
   "source": [
    "# enable if running in colab\n",
    "# !pip install git+https://github.com/patrickjohncyh/nlp_ml_api"
   ]
  },
  {
   "cell_type": "code",
   "execution_count": null,
   "outputs": [],
   "source": [
    "# enable if running in colab\n",
    "# !mkdir datasets\n",
    "# !wget https://github.com/patrickjohncyh/nlp_ml_api/raw/master/datasets/corona_nlp.zip\n",
    "# !unzip corona_nlp.zip -d ./datasets/"
   ],
   "metadata": {
    "collapsed": false,
    "pycharm": {
     "name": "#%%\n"
    }
   }
  },
  {
   "cell_type": "code",
   "execution_count": null,
   "outputs": [],
   "source": [
    "import os\n",
    "import time\n",
    "import requests\n",
    "import pandas as pd\n",
    "from nlp_ml_api.utils.model_utils import  get_available_models, deploy_model\n",
    "from nlp_ml_api.datasets import C19TwitterSentimentDataset\n",
    "from nlp_ml_api.Modeler import Modeler"
   ],
   "metadata": {
    "collapsed": false,
    "pycharm": {
     "name": "#%%\n"
    }
   }
  },
  {
   "cell_type": "code",
   "execution_count": null,
   "outputs": [],
   "source": [
    "df_train = pd.read_csv(os.path.join('datasets/corona_nlp', 'Corona_NLP_train.csv'), encoding=\"ISO-8859-1\")\n",
    "df_test = pd.read_csv(os.path.join('datasets/corona_nlp', 'Corona_NLP_test.csv'), encoding=\"ISO-8859-1\")"
   ],
   "metadata": {
    "collapsed": false,
    "pycharm": {
     "name": "#%%\n"
    }
   }
  },
  {
   "cell_type": "code",
   "execution_count": null,
   "outputs": [],
   "source": [
    "# transform data to same format as _requirements_\n",
    "training_data =[{'string':row['OriginalTweet'], 'labels':row['Sentiment']}\n",
    "                  for _,row in  df_train[['OriginalTweet', 'Sentiment']].iterrows()]\n",
    "\n",
    "testing_data =[{'string':row['OriginalTweet'], 'labels':row['Sentiment']}\n",
    "                  for _,row in  df_test[['OriginalTweet', 'Sentiment']].iterrows()]"
   ],
   "metadata": {
    "collapsed": false,
    "pycharm": {
     "name": "#%%\n"
    }
   }
  },
  {
   "cell_type": "code",
   "execution_count": null,
   "outputs": [],
   "source": [
    "# load dataset\n",
    "dataset = C19TwitterSentimentDataset.from_list(\n",
    "    data_list_train=training_data,\n",
    "    data_list_test=testing_data\n",
    ")"
   ],
   "metadata": {
    "collapsed": false,
    "pycharm": {
     "name": "#%%\n"
    }
   }
  },
  {
   "cell_type": "code",
   "source": [
    "# list available models\n",
    "get_available_models()"
   ],
   "metadata": {
    "collapsed": false,
    "pycharm": {
     "name": "#%%\n"
    }
   },
   "execution_count": null,
   "outputs": []
  },
  {
   "cell_type": "code",
   "source": [
    "# load Modeler with model and dataset\n",
    "# Change to TransformerModel if running on colab!\n",
    "modeler = Modeler('TFIDFModel', dataset)"
   ],
   "metadata": {
    "collapsed": false,
    "pycharm": {
     "name": "#%%\n"
    }
   },
   "execution_count": null,
   "outputs": []
  },
  {
   "cell_type": "code",
   "execution_count": null,
   "outputs": [],
   "source": [
    "# train model\n",
    "modeler.train()"
   ],
   "metadata": {
    "collapsed": false,
    "pycharm": {
     "name": "#%%\n"
    }
   }
  },
  {
   "cell_type": "code",
   "execution_count": null,
   "outputs": [],
   "source": [
    "# evaluate on test set (split='train') to evaluate on train\n",
    "eval_result = modeler.evaluate(split='test')"
   ],
   "metadata": {
    "collapsed": false,
    "pycharm": {
     "name": "#%%\n"
    }
   }
  },
  {
   "cell_type": "code",
   "execution_count": null,
   "outputs": [],
   "source": [
    "model = modeler.model"
   ],
   "metadata": {
    "collapsed": false,
    "pycharm": {
     "name": "#%%\n"
    }
   }
  },
  {
   "cell_type": "code",
   "execution_count": null,
   "outputs": [],
   "source": [
    "model.predict('Quarantine Day 5: I forgot how the outside world looks like anymore.')"
   ],
   "metadata": {
    "collapsed": false,
    "pycharm": {
     "name": "#%%\n"
    }
   }
  },
  {
   "cell_type": "code",
   "execution_count": null,
   "outputs": [],
   "source": [
    "model.predict('Quarantine Day 129438: I am tired.')"
   ],
   "metadata": {
    "collapsed": false,
    "pycharm": {
     "name": "#%%\n"
    }
   }
  },
  {
   "cell_type": "markdown",
   "source": [
    "### Localhost Deployment\n",
    "We can deploy onto localhost and invoke model via\n",
    "\n",
    "`0.0.0.0/endpoint/?query=myquery`\n",
    "\n",
    "(Do not run if on Colab)\n",
    "\n",
    "Might take awhile as docker image needs to be built"
   ],
   "metadata": {
    "collapsed": false
   }
  },
  {
   "cell_type": "code",
   "execution_count": null,
   "outputs": [],
   "source": [
    "deploy_model(model, mode='localhost')"
   ],
   "metadata": {
    "collapsed": false,
    "pycharm": {
     "name": "#%%\n"
    }
   }
  },
  {
   "cell_type": "markdown",
   "source": [
    "### Endpoint Deployment"
   ],
   "metadata": {
    "collapsed": false,
    "pycharm": {
     "name": "#%% md\n"
    }
   }
  },
  {
   "cell_type": "code",
   "execution_count": null,
   "outputs": [],
   "source": [
    "endpoint_name = 'my-endpoint-{}'.format(int(time.time()))\n",
    "deploy_model(model,\n",
    "             mode='heroku',\n",
    "             endpoint_name=endpoint_name)"
   ],
   "metadata": {
    "collapsed": false,
    "pycharm": {
     "name": "#%%\n"
    }
   }
  },
  {
   "cell_type": "code",
   "source": [
    "# make query to endpoint\n",
    "requests.get(\"https://{}.herokuapp.com/endpoint/?query=i%20like%20cats\".format(endpoint_name)).json()"
   ],
   "metadata": {
    "collapsed": false,
    "pycharm": {
     "name": "#%%\n"
    }
   },
   "execution_count": null,
   "outputs": []
  },
  {
   "cell_type": "code",
   "execution_count": null,
   "outputs": [],
   "source": [],
   "metadata": {
    "collapsed": false,
    "pycharm": {
     "name": "#%%\n"
    }
   }
  }
 ],
 "metadata": {
  "kernelspec": {
   "display_name": "Python 3",
   "language": "python",
   "name": "python3"
  },
  "language_info": {
   "codemirror_mode": {
    "name": "ipython",
    "version": 2
   },
   "file_extension": ".py",
   "mimetype": "text/x-python",
   "name": "python",
   "nbconvert_exporter": "python",
   "pygments_lexer": "ipython2",
   "version": "2.7.6"
  }
 },
 "nbformat": 4,
 "nbformat_minor": 0
}